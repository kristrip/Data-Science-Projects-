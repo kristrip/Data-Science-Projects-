{
 "cells": [
  {
   "cell_type": "code",
   "execution_count": 1,
   "id": "7b294a0c",
   "metadata": {},
   "outputs": [],
   "source": [
    "import nltk \n",
    "#### NaturalLanguage Toolkit"
   ]
  },
  {
   "cell_type": "code",
   "execution_count": 2,
   "id": "a702745b",
   "metadata": {},
   "outputs": [],
   "source": [
    "import nltk.corpus"
   ]
  },
  {
   "cell_type": "code",
   "execution_count": 3,
   "id": "84952fe1",
   "metadata": {},
   "outputs": [],
   "source": [
    "#Tokenisation"
   ]
  },
  {
   "cell_type": "code",
   "execution_count": 7,
   "id": "47d690e1",
   "metadata": {},
   "outputs": [
    {
     "name": "stderr",
     "output_type": "stream",
     "text": [
      "[nltk_data] Downloading package punkt to\n",
      "[nltk_data]     C:\\Users\\DELL\\AppData\\Roaming\\nltk_data...\n",
      "[nltk_data]   Unzipping tokenizers\\punkt.zip.\n"
     ]
    },
    {
     "data": {
      "text/plain": [
       "True"
      ]
     },
     "execution_count": 7,
     "metadata": {},
     "output_type": "execute_result"
    }
   ],
   "source": [
    "nltk.download('punkt')\n"
   ]
  },
  {
   "cell_type": "code",
   "execution_count": 8,
   "id": "9290a0ee",
   "metadata": {},
   "outputs": [],
   "source": [
    "from nltk.tokenize import word_tokenize"
   ]
  },
  {
   "cell_type": "code",
   "execution_count": 23,
   "id": "2dcd1e2b",
   "metadata": {},
   "outputs": [],
   "source": [
    "a= \" krishna is going to crack data science anyhow\""
   ]
  },
  {
   "cell_type": "code",
   "execution_count": 10,
   "id": "1c3395e7",
   "metadata": {},
   "outputs": [
    {
     "data": {
      "text/plain": [
       "['krishna', 'is', 'going', 'to', 'crack', 'data', 'science', 'anyhow']"
      ]
     },
     "execution_count": 10,
     "metadata": {},
     "output_type": "execute_result"
    }
   ],
   "source": [
    "###WORD\n",
    "\n",
    "C"
   ]
  },
  {
   "cell_type": "code",
   "execution_count": 12,
   "id": "5cd9bb66",
   "metadata": {},
   "outputs": [],
   "source": [
    "##SENTENCE\n",
    "\n",
    "from nltk.tokenize import sent_tokenize"
   ]
  },
  {
   "cell_type": "code",
   "execution_count": 16,
   "id": "ca6a46c0",
   "metadata": {},
   "outputs": [],
   "source": [
    "b= \" krishna is going to crack data science anyhow. and for sure its not easy\""
   ]
  },
  {
   "cell_type": "code",
   "execution_count": 18,
   "id": "1bcc85a1",
   "metadata": {},
   "outputs": [
    {
     "data": {
      "text/plain": [
       "[' krishna is going to crack data science anyhow.',\n",
       " 'and for sure its not easy']"
      ]
     },
     "execution_count": 18,
     "metadata": {},
     "output_type": "execute_result"
    }
   ],
   "source": [
    "sent_tokenize(b)"
   ]
  },
  {
   "cell_type": "code",
   "execution_count": 19,
   "id": "184a9182",
   "metadata": {},
   "outputs": [
    {
     "data": {
      "text/plain": [
       "2"
      ]
     },
     "execution_count": 19,
     "metadata": {},
     "output_type": "execute_result"
    }
   ],
   "source": [
    "len(sent_tokenize(b))"
   ]
  },
  {
   "cell_type": "code",
   "execution_count": 24,
   "id": "d8a2197d",
   "metadata": {},
   "outputs": [
    {
     "data": {
      "text/plain": [
       "8"
      ]
     },
     "execution_count": 24,
     "metadata": {},
     "output_type": "execute_result"
    }
   ],
   "source": [
    "len(word_tokenize(a))"
   ]
  },
  {
   "cell_type": "code",
   "execution_count": 25,
   "id": "6bf80d4e",
   "metadata": {},
   "outputs": [],
   "source": [
    "#bigrams and n_grams"
   ]
  },
  {
   "cell_type": "code",
   "execution_count": 27,
   "id": "8d0bdfb7",
   "metadata": {},
   "outputs": [],
   "source": [
    "astronaut = \"Can anybody hear me or i am taking to myself? My mind is running empty in the search of someone else\""
   ]
  },
  {
   "cell_type": "code",
   "execution_count": 30,
   "id": "232e239f",
   "metadata": {},
   "outputs": [],
   "source": [
    "astronaut_token = (word_tokenize(astronaut))"
   ]
  },
  {
   "cell_type": "code",
   "execution_count": 31,
   "id": "7f1c7b80",
   "metadata": {},
   "outputs": [
    {
     "data": {
      "text/plain": [
       "[('Can', 'anybody'),\n",
       " ('anybody', 'hear'),\n",
       " ('hear', 'me'),\n",
       " ('me', 'or'),\n",
       " ('or', 'i'),\n",
       " ('i', 'am'),\n",
       " ('am', 'taking'),\n",
       " ('taking', 'to'),\n",
       " ('to', 'myself'),\n",
       " ('myself', '?'),\n",
       " ('?', 'My'),\n",
       " ('My', 'mind'),\n",
       " ('mind', 'is'),\n",
       " ('is', 'running'),\n",
       " ('running', 'empty'),\n",
       " ('empty', 'in'),\n",
       " ('in', 'the'),\n",
       " ('the', 'search'),\n",
       " ('search', 'of'),\n",
       " ('of', 'someone'),\n",
       " ('someone', 'else')]"
      ]
     },
     "execution_count": 31,
     "metadata": {},
     "output_type": "execute_result"
    }
   ],
   "source": [
    "list(nltk.bigrams(astronaut_token))"
   ]
  },
  {
   "cell_type": "code",
   "execution_count": 32,
   "id": "95992f43",
   "metadata": {},
   "outputs": [
    {
     "data": {
      "text/plain": [
       "[('Can', 'anybody', 'hear'),\n",
       " ('anybody', 'hear', 'me'),\n",
       " ('hear', 'me', 'or'),\n",
       " ('me', 'or', 'i'),\n",
       " ('or', 'i', 'am'),\n",
       " ('i', 'am', 'taking'),\n",
       " ('am', 'taking', 'to'),\n",
       " ('taking', 'to', 'myself'),\n",
       " ('to', 'myself', '?'),\n",
       " ('myself', '?', 'My'),\n",
       " ('?', 'My', 'mind'),\n",
       " ('My', 'mind', 'is'),\n",
       " ('mind', 'is', 'running'),\n",
       " ('is', 'running', 'empty'),\n",
       " ('running', 'empty', 'in'),\n",
       " ('empty', 'in', 'the'),\n",
       " ('in', 'the', 'search'),\n",
       " ('the', 'search', 'of'),\n",
       " ('search', 'of', 'someone'),\n",
       " ('of', 'someone', 'else')]"
      ]
     },
     "execution_count": 32,
     "metadata": {},
     "output_type": "execute_result"
    }
   ],
   "source": [
    "list(nltk.trigrams(astronaut_token))"
   ]
  },
  {
   "cell_type": "code",
   "execution_count": 35,
   "id": "b4932dc8",
   "metadata": {},
   "outputs": [
    {
     "data": {
      "text/plain": [
       "[('Can', 'anybody', 'hear', 'me'),\n",
       " ('anybody', 'hear', 'me', 'or'),\n",
       " ('hear', 'me', 'or', 'i'),\n",
       " ('me', 'or', 'i', 'am'),\n",
       " ('or', 'i', 'am', 'taking'),\n",
       " ('i', 'am', 'taking', 'to'),\n",
       " ('am', 'taking', 'to', 'myself'),\n",
       " ('taking', 'to', 'myself', '?'),\n",
       " ('to', 'myself', '?', 'My'),\n",
       " ('myself', '?', 'My', 'mind'),\n",
       " ('?', 'My', 'mind', 'is'),\n",
       " ('My', 'mind', 'is', 'running'),\n",
       " ('mind', 'is', 'running', 'empty'),\n",
       " ('is', 'running', 'empty', 'in'),\n",
       " ('running', 'empty', 'in', 'the'),\n",
       " ('empty', 'in', 'the', 'search'),\n",
       " ('in', 'the', 'search', 'of'),\n",
       " ('the', 'search', 'of', 'someone'),\n",
       " ('search', 'of', 'someone', 'else')]"
      ]
     },
     "execution_count": 35,
     "metadata": {},
     "output_type": "execute_result"
    }
   ],
   "source": [
    "list(nltk.ngrams(astronaut_token, 4))"
   ]
  },
  {
   "cell_type": "code",
   "execution_count": 36,
   "id": "fa0ffdf6",
   "metadata": {},
   "outputs": [],
   "source": [
    " ##stemming"
   ]
  },
  {
   "cell_type": "code",
   "execution_count": 37,
   "id": "8d83823e",
   "metadata": {},
   "outputs": [],
   "source": [
    "from nltk.stem import PorterStemmer\n",
    "\n",
    "#there are many meathod to do the same thing"
   ]
  },
  {
   "cell_type": "code",
   "execution_count": 46,
   "id": "04c08977",
   "metadata": {},
   "outputs": [],
   "source": [
    "my_stem = PorterStemmer()"
   ]
  },
  {
   "cell_type": "code",
   "execution_count": 47,
   "id": "1a6ba69f",
   "metadata": {},
   "outputs": [
    {
     "data": {
      "text/plain": [
       "'eat'"
      ]
     },
     "execution_count": 47,
     "metadata": {},
     "output_type": "execute_result"
    }
   ],
   "source": [
    "my_stem.stem('eating')"
   ]
  },
  {
   "cell_type": "code",
   "execution_count": 48,
   "id": "44f59936",
   "metadata": {},
   "outputs": [
    {
     "data": {
      "text/plain": [
       "'go'"
      ]
     },
     "execution_count": 48,
     "metadata": {},
     "output_type": "execute_result"
    }
   ],
   "source": [
    "my_stem.stem('going')"
   ]
  },
  {
   "cell_type": "code",
   "execution_count": 49,
   "id": "78ff9d43",
   "metadata": {},
   "outputs": [
    {
     "data": {
      "text/plain": [
       "'shop'"
      ]
     },
     "execution_count": 49,
     "metadata": {},
     "output_type": "execute_result"
    }
   ],
   "source": [
    "my_stem.stem('shopping')"
   ]
  },
  {
   "cell_type": "code",
   "execution_count": 50,
   "id": "6110d75e",
   "metadata": {},
   "outputs": [
    {
     "data": {
      "text/plain": [
       "'restless'"
      ]
     },
     "execution_count": 50,
     "metadata": {},
     "output_type": "execute_result"
    }
   ],
   "source": [
    "my_stem.stem('restlessness')"
   ]
  },
  {
   "cell_type": "code",
   "execution_count": 51,
   "id": "8983c947",
   "metadata": {},
   "outputs": [],
   "source": [
    "#pos-filling"
   ]
  },
  {
   "cell_type": "code",
   "execution_count": 55,
   "id": "11470400",
   "metadata": {},
   "outputs": [
    {
     "name": "stderr",
     "output_type": "stream",
     "text": [
      "[nltk_data] Downloading package averaged_perceptron_tagger to\n",
      "[nltk_data]     C:\\Users\\DELL\\AppData\\Roaming\\nltk_data...\n",
      "[nltk_data]   Unzipping taggers\\averaged_perceptron_tagger.zip.\n"
     ]
    },
    {
     "data": {
      "text/plain": [
       "True"
      ]
     },
     "execution_count": 55,
     "metadata": {},
     "output_type": "execute_result"
    }
   ],
   "source": [
    "nltk.download('averaged_perceptron_tagger')"
   ]
  },
  {
   "cell_type": "code",
   "execution_count": 56,
   "id": "53ce3ae4",
   "metadata": {},
   "outputs": [],
   "source": [
    "CB = \"christian bale is best actor in world\""
   ]
  },
  {
   "cell_type": "code",
   "execution_count": 57,
   "id": "2fc52e41",
   "metadata": {},
   "outputs": [],
   "source": [
    "CB_token = word_tokenize(CB)"
   ]
  },
  {
   "cell_type": "code",
   "execution_count": 62,
   "id": "8b1e3d03",
   "metadata": {},
   "outputs": [
    {
     "data": {
      "text/plain": [
       "[('christian', 'JJ'),\n",
       " ('bale', 'NN'),\n",
       " ('is', 'VBZ'),\n",
       " ('best', 'RBS'),\n",
       " ('actor', 'NN'),\n",
       " ('in', 'IN'),\n",
       " ('world', 'NN')]"
      ]
     },
     "execution_count": 62,
     "metadata": {},
     "output_type": "execute_result"
    }
   ],
   "source": [
    "nltk.pos_tag(CB_token) "
   ]
  },
  {
   "cell_type": "code",
   "execution_count": null,
   "id": "8e98d554",
   "metadata": {},
   "outputs": [],
   "source": [
    "##Abbreviation\tMeaning\n",
    "###[CC\tcoordinating conjunction\n",
    "##CD\tcardinal digit\n",
    "DT\tdeterminer\n",
    "EX\texistential there\n",
    "FW\tforeign word\n",
    "IN\tpreposition/subordinating conjunction\n",
    "JJ\tThis NLTK POS Tag is an adjective (large)\n",
    "JJR\tadjective, comparative (larger)\n",
    "JJS\tadjective, superlative (largest)\n",
    "LS\tlist market\n",
    "MD\tmodal (could, will)\n",
    "NN\tnoun, singular (cat, tree)\n",
    "NNS\tnoun plural (desks)\n",
    "NNP\tproper noun, singular (sarah)\n",
    "NNPS\tproper noun, plural (indians or americans)\n",
    "PDT\tpredeterminer (all, both, half)\n",
    "POS\tpossessive ending (parent\\ ‘s)\n",
    "PRP\tpersonal pronoun (hers, herself, him, himself)\n",
    "PRP$\tpossessive pronoun (her, his, mine, my, our )\n",
    "RB\tadverb (occasionally, swiftly)\n",
    "RBR\tadverb, comparative (greater)\n",
    "RBS\tadverb, superlative (biggest)\n",
    "RP\tparticle (about)\n",
    "TO\tinfinite marker (to)\n",
    "UH\tinterjection (goodbye)\n",
    "VB\tverb (ask)\n",
    "VBG\tverb gerund (judging)\n",
    "VBD\tverb past tense (pleaded)\n",
    "VBN\tverb past participle (reunified)\n",
    "VBP\tverb, present tense not 3rd person singular(wrap)\n",
    "VBZ\tverb, present tense with 3rd person singular (bases)\n",
    "WDT\twh-determiner (that, what)\n",
    "WP\twh- pronoun (who)\n",
    "WRB\twh- adverb (how)]"
   ]
  },
  {
   "cell_type": "code",
   "execution_count": 63,
   "id": "4615ec88",
   "metadata": {},
   "outputs": [],
   "source": [
    "##Named Entry Recognization"
   ]
  },
  {
   "cell_type": "code",
   "execution_count": 71,
   "id": "a0786335",
   "metadata": {},
   "outputs": [
    {
     "name": "stderr",
     "output_type": "stream",
     "text": [
      "[nltk_data] Downloading package maxent_ne_chunker to\n",
      "[nltk_data]     C:\\Users\\DELL\\AppData\\Roaming\\nltk_data...\n",
      "[nltk_data]   Package maxent_ne_chunker is already up-to-date!\n",
      "[nltk_data] Downloading package words to\n",
      "[nltk_data]     C:\\Users\\DELL\\AppData\\Roaming\\nltk_data...\n",
      "[nltk_data]   Unzipping corpora\\words.zip.\n"
     ]
    },
    {
     "data": {
      "text/plain": [
       "True"
      ]
     },
     "execution_count": 71,
     "metadata": {},
     "output_type": "execute_result"
    }
   ],
   "source": [
    "nltk.download('maxent_ne_chunker')\n",
    "nltk.download('words')"
   ]
  },
  {
   "cell_type": "code",
   "execution_count": 64,
   "id": "85882588",
   "metadata": {},
   "outputs": [],
   "source": [
    "from nltk import ne_chunk"
   ]
  },
  {
   "cell_type": "code",
   "execution_count": 65,
   "id": "7af32958",
   "metadata": {},
   "outputs": [],
   "source": [
    "president = 'joe biden is 46th president of united states '"
   ]
  },
  {
   "cell_type": "code",
   "execution_count": 66,
   "id": "6a4b5a40",
   "metadata": {},
   "outputs": [],
   "source": [
    "president_token = word_tokenize(president)"
   ]
  },
  {
   "cell_type": "code",
   "execution_count": 67,
   "id": "a62ce7ea",
   "metadata": {},
   "outputs": [],
   "source": [
    "president_pos = nltk.pos_tag(president_token)"
   ]
  },
  {
   "cell_type": "code",
   "execution_count": 72,
   "id": "aabbe8bc",
   "metadata": {},
   "outputs": [
    {
     "name": "stderr",
     "output_type": "stream",
     "text": [
      "The Ghostscript executable isn't found.\n",
      "See http://web.mit.edu/ghostscript/www/Install.htm\n",
      "If you're using a Mac, you can try installing\n",
      "https://docs.brew.sh/Installation then `brew install ghostscript`\n"
     ]
    },
    {
     "ename": "LookupError",
     "evalue": "",
     "output_type": "error",
     "traceback": [
      "\u001b[1;31m---------------------------------------------------------------------------\u001b[0m",
      "\u001b[1;31mLookupError\u001b[0m                               Traceback (most recent call last)",
      "\u001b[1;32m~\\anaconda3\\lib\\site-packages\\nltk\\tree.py\u001b[0m in \u001b[0;36m_repr_png_\u001b[1;34m(self)\u001b[0m\n\u001b[0;32m    813\u001b[0m                     [\n\u001b[1;32m--> 814\u001b[1;33m                         find_binary(\n\u001b[0m\u001b[0;32m    815\u001b[0m                             \u001b[1;34m\"gs\"\u001b[0m\u001b[1;33m,\u001b[0m\u001b[1;33m\u001b[0m\u001b[1;33m\u001b[0m\u001b[0m\n",
      "\u001b[1;32m~\\anaconda3\\lib\\site-packages\\nltk\\internals.py\u001b[0m in \u001b[0;36mfind_binary\u001b[1;34m(name, path_to_bin, env_vars, searchpath, binary_names, url, verbose)\u001b[0m\n\u001b[0;32m    686\u001b[0m ):\n\u001b[1;32m--> 687\u001b[1;33m     return next(\n\u001b[0m\u001b[0;32m    688\u001b[0m         find_binary_iter(\n",
      "\u001b[1;32m~\\anaconda3\\lib\\site-packages\\nltk\\internals.py\u001b[0m in \u001b[0;36mfind_binary_iter\u001b[1;34m(name, path_to_bin, env_vars, searchpath, binary_names, url, verbose)\u001b[0m\n\u001b[0;32m    672\u001b[0m     \"\"\"\n\u001b[1;32m--> 673\u001b[1;33m     yield from find_file_iter(\n\u001b[0m\u001b[0;32m    674\u001b[0m         \u001b[0mpath_to_bin\u001b[0m \u001b[1;32mor\u001b[0m \u001b[0mname\u001b[0m\u001b[1;33m,\u001b[0m \u001b[0menv_vars\u001b[0m\u001b[1;33m,\u001b[0m \u001b[0msearchpath\u001b[0m\u001b[1;33m,\u001b[0m \u001b[0mbinary_names\u001b[0m\u001b[1;33m,\u001b[0m \u001b[0murl\u001b[0m\u001b[1;33m,\u001b[0m \u001b[0mverbose\u001b[0m\u001b[1;33m\u001b[0m\u001b[1;33m\u001b[0m\u001b[0m\n",
      "\u001b[1;32m~\\anaconda3\\lib\\site-packages\\nltk\\internals.py\u001b[0m in \u001b[0;36mfind_file_iter\u001b[1;34m(filename, env_vars, searchpath, file_names, url, verbose, finding_dir)\u001b[0m\n\u001b[0;32m    631\u001b[0m         \u001b[0mdiv\u001b[0m \u001b[1;33m=\u001b[0m \u001b[1;34m\"=\"\u001b[0m \u001b[1;33m*\u001b[0m \u001b[1;36m75\u001b[0m\u001b[1;33m\u001b[0m\u001b[1;33m\u001b[0m\u001b[0m\n\u001b[1;32m--> 632\u001b[1;33m         \u001b[1;32mraise\u001b[0m \u001b[0mLookupError\u001b[0m\u001b[1;33m(\u001b[0m\u001b[1;34mf\"\\n\\n{div}\\n{msg}\\n{div}\"\u001b[0m\u001b[1;33m)\u001b[0m\u001b[1;33m\u001b[0m\u001b[1;33m\u001b[0m\u001b[0m\n\u001b[0m\u001b[0;32m    633\u001b[0m \u001b[1;33m\u001b[0m\u001b[0m\n",
      "\u001b[1;31mLookupError\u001b[0m: \n\n===========================================================================\nNLTK was unable to find the gs file!\nUse software specific configuration parameters or set the PATH environment variable.\n===========================================================================",
      "\nThe above exception was the direct cause of the following exception:\n",
      "\u001b[1;31mLookupError\u001b[0m                               Traceback (most recent call last)",
      "\u001b[1;32m~\\anaconda3\\lib\\site-packages\\IPython\\core\\formatters.py\u001b[0m in \u001b[0;36m__call__\u001b[1;34m(self, obj)\u001b[0m\n\u001b[0;32m    343\u001b[0m             \u001b[0mmethod\u001b[0m \u001b[1;33m=\u001b[0m \u001b[0mget_real_method\u001b[0m\u001b[1;33m(\u001b[0m\u001b[0mobj\u001b[0m\u001b[1;33m,\u001b[0m \u001b[0mself\u001b[0m\u001b[1;33m.\u001b[0m\u001b[0mprint_method\u001b[0m\u001b[1;33m)\u001b[0m\u001b[1;33m\u001b[0m\u001b[1;33m\u001b[0m\u001b[0m\n\u001b[0;32m    344\u001b[0m             \u001b[1;32mif\u001b[0m \u001b[0mmethod\u001b[0m \u001b[1;32mis\u001b[0m \u001b[1;32mnot\u001b[0m \u001b[1;32mNone\u001b[0m\u001b[1;33m:\u001b[0m\u001b[1;33m\u001b[0m\u001b[1;33m\u001b[0m\u001b[0m\n\u001b[1;32m--> 345\u001b[1;33m                 \u001b[1;32mreturn\u001b[0m \u001b[0mmethod\u001b[0m\u001b[1;33m(\u001b[0m\u001b[1;33m)\u001b[0m\u001b[1;33m\u001b[0m\u001b[1;33m\u001b[0m\u001b[0m\n\u001b[0m\u001b[0;32m    346\u001b[0m             \u001b[1;32mreturn\u001b[0m \u001b[1;32mNone\u001b[0m\u001b[1;33m\u001b[0m\u001b[1;33m\u001b[0m\u001b[0m\n\u001b[0;32m    347\u001b[0m         \u001b[1;32melse\u001b[0m\u001b[1;33m:\u001b[0m\u001b[1;33m\u001b[0m\u001b[1;33m\u001b[0m\u001b[0m\n",
      "\u001b[1;32m~\\anaconda3\\lib\\site-packages\\nltk\\tree.py\u001b[0m in \u001b[0;36m_repr_png_\u001b[1;34m(self)\u001b[0m\n\u001b[0;32m    831\u001b[0m                 )\n\u001b[0;32m    832\u001b[0m                 \u001b[0mprint\u001b[0m\u001b[1;33m(\u001b[0m\u001b[0mpre_error_message\u001b[0m\u001b[1;33m,\u001b[0m \u001b[0mfile\u001b[0m\u001b[1;33m=\u001b[0m\u001b[0msys\u001b[0m\u001b[1;33m.\u001b[0m\u001b[0mstderr\u001b[0m\u001b[1;33m)\u001b[0m\u001b[1;33m\u001b[0m\u001b[1;33m\u001b[0m\u001b[0m\n\u001b[1;32m--> 833\u001b[1;33m                 \u001b[1;32mraise\u001b[0m \u001b[0mLookupError\u001b[0m \u001b[1;32mfrom\u001b[0m \u001b[0me\u001b[0m\u001b[1;33m\u001b[0m\u001b[1;33m\u001b[0m\u001b[0m\n\u001b[0m\u001b[0;32m    834\u001b[0m \u001b[1;33m\u001b[0m\u001b[0m\n\u001b[0;32m    835\u001b[0m             \u001b[1;32mwith\u001b[0m \u001b[0mopen\u001b[0m\u001b[1;33m(\u001b[0m\u001b[0mout_path\u001b[0m\u001b[1;33m,\u001b[0m \u001b[1;34m\"rb\"\u001b[0m\u001b[1;33m)\u001b[0m \u001b[1;32mas\u001b[0m \u001b[0msr\u001b[0m\u001b[1;33m:\u001b[0m\u001b[1;33m\u001b[0m\u001b[1;33m\u001b[0m\u001b[0m\n",
      "\u001b[1;31mLookupError\u001b[0m: "
     ]
    },
    {
     "data": {
      "text/plain": [
       "Tree('S', [('joe', 'NN'), ('biden', 'NN'), ('is', 'VBZ'), ('president', 'NN'), ('of', 'IN'), ('united', 'JJ'), ('states', 'NNS')])"
      ]
     },
     "execution_count": 72,
     "metadata": {},
     "output_type": "execute_result"
    }
   ],
   "source": [
    "ne_chunk(president_pos)"
   ]
  },
  {
   "cell_type": "code",
   "execution_count": 76,
   "id": "82ab28e3",
   "metadata": {},
   "outputs": [
    {
     "name": "stdout",
     "output_type": "stream",
     "text": [
      "Collecting gTTsNote: you may need to restart the kernel to use updated packages.\n",
      "  Downloading gTTS-2.2.4-py3-none-any.whl (26 kB)\n",
      "\n",
      "Requirement already satisfied: six in c:\\users\\dell\\anaconda3\\lib\\site-packages (from gTTs) (1.16.0)\n",
      "Requirement already satisfied: click in c:\\users\\dell\\anaconda3\\lib\\site-packages (from gTTs) (8.0.3)\n",
      "Requirement already satisfied: requests in c:\\users\\dell\\anaconda3\\lib\\site-packages (from gTTs) (2.26.0)\n",
      "Requirement already satisfied: colorama in c:\\users\\dell\\anaconda3\\lib\\site-packages (from click->gTTs) (0.4.4)\n",
      "Requirement already satisfied: charset-normalizer~=2.0.0 in c:\\users\\dell\\anaconda3\\lib\\site-packages (from requests->gTTs) (2.0.4)\n",
      "Requirement already satisfied: certifi>=2017.4.17 in c:\\users\\dell\\anaconda3\\lib\\site-packages (from requests->gTTs) (2021.10.8)\n",
      "Requirement already satisfied: urllib3<1.27,>=1.21.1 in c:\\users\\dell\\anaconda3\\lib\\site-packages (from requests->gTTs) (1.26.7)\n",
      "Requirement already satisfied: idna<4,>=2.5 in c:\\users\\dell\\anaconda3\\lib\\site-packages (from requests->gTTs) (3.2)\n",
      "Installing collected packages: gTTs\n",
      "Successfully installed gTTs-2.2.4\n"
     ]
    }
   ],
   "source": [
    "pip install gTTs\n",
    "\n",
    "#google text to speeh"
   ]
  },
  {
   "cell_type": "code",
   "execution_count": 79,
   "id": "318521c4",
   "metadata": {},
   "outputs": [
    {
     "data": {
      "text/html": [
       "\n",
       "                <audio  controls=\"controls\" autoplay=\"autoplay\">\n",
       "                    <source src=\"data:audio/wav;base64,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\" type=\"audio/wav\" />\n",
       "                    Your browser does not support the audio element.\n",
       "                </audio>\n",
       "              "
      ],
      "text/plain": [
       "<IPython.lib.display.Audio object>"
      ]
     },
     "execution_count": 79,
     "metadata": {},
     "output_type": "execute_result"
    }
   ],
   "source": [
    "from gtts import gTTS\n",
    "from IPython.display import Audio\n",
    "tts = gTTS('This is my first NLP project')\n",
    "tts.save('C:/Users/DELL/Downloads/1.wav')\n",
    "sound_file = 'C:/Users/DELL/Downloads/1.wav'\n",
    "Audio(sound_file, autoplay=True)"
   ]
  },
  {
   "cell_type": "code",
   "execution_count": null,
   "id": "ce065dec",
   "metadata": {},
   "outputs": [],
   "source": []
  }
 ],
 "metadata": {
  "kernelspec": {
   "display_name": "Python 3 (ipykernel)",
   "language": "python",
   "name": "python3"
  },
  "language_info": {
   "codemirror_mode": {
    "name": "ipython",
    "version": 3
   },
   "file_extension": ".py",
   "mimetype": "text/x-python",
   "name": "python",
   "nbconvert_exporter": "python",
   "pygments_lexer": "ipython3",
   "version": "3.9.7"
  }
 },
 "nbformat": 4,
 "nbformat_minor": 5
}
